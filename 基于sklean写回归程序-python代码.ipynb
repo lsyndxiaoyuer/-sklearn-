{
 "cells": [
  {
   "cell_type": "markdown",
   "metadata": {},
   "source": [
    "step1 manually generate dataset"
   ]
  },
  {
   "cell_type": "code",
   "execution_count": 28,
   "metadata": {},
   "outputs": [
    {
     "name": "stdout",
     "output_type": "stream",
     "text": [
      "[[ 0  1]\n",
      " [ 2  3]\n",
      " [ 4  5]\n",
      " [ 6  7]\n",
      " [ 8  9]\n",
      " [10 11]\n",
      " [12 13]\n",
      " [14 15]\n",
      " [16 17]\n",
      " [18 19]]\n"
     ]
    }
   ],
   "source": [
    "import numpy as np\n",
    "X = [ i for i in range(20)]\n",
    "X = np.reshape(X, (10,2))\n",
    "print(X)"
   ]
  },
  {
   "cell_type": "code",
   "execution_count": 29,
   "metadata": {},
   "outputs": [
    {
     "name": "stdout",
     "output_type": "stream",
     "text": [
      "[  6  20  34  48  62  76  90 104 118 132]\n"
     ]
    }
   ],
   "source": [
    "# y = X * a + b\n",
    "y = np.dot(X, [3, 4]) + 2\n",
    "print(y)"
   ]
  },
  {
   "cell_type": "code",
   "execution_count": 30,
   "metadata": {},
   "outputs": [
    {
     "name": "stdout",
     "output_type": "stream",
     "text": [
      "[17, 31, 39, 66, 61, 76, 81, 106, 130, 133]\n"
     ]
    }
   ],
   "source": [
    "y_random = []\n",
    "for i in y:\n",
    "    i += np.random.randint(-10, 20)\n",
    "    y_random.append(i)\n",
    "print(y_random)"
   ]
  },
  {
   "cell_type": "code",
   "execution_count": 31,
   "metadata": {},
   "outputs": [
    {
     "data": {
      "image/png": "[encoded data removed]",
      "text/plain": [
       "<Figure size 432x288 with 1 Axes>"
      ]
     },
     "metadata": {
      "needs_background": "light"
     },
     "output_type": "display_data"
    }
   ],
   "source": [
    "import matplotlib.pyplot as plt\n",
    "plt.scatter(X[:, 0], y_random)\n",
    "plt.plot(X[:, 0], y_random)\n",
    "plt.xlabel('X')\n",
    "plt.ylabel('y')\n",
    "plt.show()"
   ]
  },
  {
   "cell_type": "markdown",
   "metadata": {},
   "source": [
    "Step2 preprocess the data"
   ]
  },
  {
   "cell_type": "code",
   "execution_count": 32,
   "metadata": {},
   "outputs": [],
   "source": [
    "from sklearn.model_selection import train_test_split\n",
    "from sklearn.preprocessing import StandardScaler"
   ]
  },
  {
   "cell_type": "code",
   "execution_count": 75,
   "metadata": {},
   "outputs": [
    {
     "name": "stdout",
     "output_type": "stream",
     "text": [
      "x_train:\n",
      "[[ 6  7]\n",
      " [14 15]\n",
      " [18 19]\n",
      " [ 0  1]\n",
      " [12 13]\n",
      " [ 4  5]\n",
      " [10 11]\n",
      " [16 17]]\n",
      "x_test:\n",
      "[[2 3]\n",
      " [8 9]]\n",
      "y_train:\n",
      "[66, 106, 133, 17, 81, 39, 76, 130]\n",
      "y_test:\n",
      "[31, 61]\n"
     ]
    }
   ],
   "source": [
    "x_train, x_test, y_train, y_test = train_test_split(X, y_random, test_size=0.2)\n",
    "print('x_train:')\n",
    "print(x_train)\n",
    "print('x_test:')\n",
    "print(x_test)\n",
    "print('y_train:')\n",
    "print(y_train)\n",
    "print('y_test:')\n",
    "print(y_test)"
   ]
  },
  {
   "cell_type": "code",
   "execution_count": 76,
   "metadata": {},
   "outputs": [
    {
     "name": "stdout",
     "output_type": "stream",
     "text": [
      "[[-1.37198868 -1.37198868]\n",
      " [-0.34299717 -0.34299717]]\n"
     ]
    }
   ],
   "source": [
    "scaler = StandardScaler()\n",
    "scaler.fit(x_train)\n",
    "x_train = scaler.transform(x_train)\n",
    "x_test = scaler.transform(x_test)\n",
    "print(x_test)"
   ]
  },
  {
   "cell_type": "markdown",
   "metadata": {},
   "source": [
    "Step3 build the model,fit the model and use the model to predict"
   ]
  },
  {
   "cell_type": "code",
   "execution_count": 77,
   "metadata": {},
   "outputs": [
    {
     "data": {
      "text/plain": [
       "LinearRegression()"
      ]
     },
     "execution_count": 77,
     "metadata": {},
     "output_type": "execute_result"
    }
   ],
   "source": [
    "from sklearn.linear_model import LinearRegression\n",
    "model = LinearRegression()\n",
    "model.fit(x_train,y_train)"
   ]
  },
  {
   "cell_type": "code",
   "execution_count": 81,
   "metadata": {},
   "outputs": [
    {
     "data": {
      "text/plain": [
       "0.88234477124183"
      ]
     },
     "execution_count": 81,
     "metadata": {},
     "output_type": "execute_result"
    }
   ],
   "source": [
    "model.score(x_test,y_test)"
   ]
  },
  {
   "cell_type": "code",
   "execution_count": 82,
   "metadata": {},
   "outputs": [
    {
     "data": {
      "text/plain": [
       "array([29.17647059, 68.04411765])"
      ]
     },
     "execution_count": 82,
     "metadata": {},
     "output_type": "execute_result"
    }
   ],
   "source": [
    "model.predict(x_test)"
   ]
  },
  {
   "cell_type": "code",
   "execution_count": 85,
   "metadata": {},
   "outputs": [
    {
     "name": "stdout",
     "output_type": "stream",
     "text": [
      "[18.88628169 18.88628169]\n",
      "81.0\n"
     ]
    }
   ],
   "source": [
    "print(model.coef_)\n",
    "print(model.intercept_)"
   ]
  },
  {
   "cell_type": "code",
   "execution_count": 86,
   "metadata": {},
   "outputs": [
    {
     "data": {
      "text/plain": [
       "array([29.17647059, 68.04411765])"
      ]
     },
     "execution_count": 86,
     "metadata": {},
     "output_type": "execute_result"
    }
   ],
   "source": [
    "np.dot(x_test, model.coef_) + model.intercept_"
   ]
  },
  {
   "cell_type": "code",
   "execution_count": null,
   "metadata": {},
   "outputs": [],
   "source": []
  },
  {
   "cell_type": "code",
   "execution_count": null,
   "metadata": {},
   "outputs": [],
   "source": []
  },
  {
   "cell_type": "code",
   "execution_count": 68,
   "metadata": {},
   "outputs": [
    {
     "name": "stdout",
     "output_type": "stream",
     "text": [
      "[[ 0.   1. ]\n",
      " [ 2.   3. ]\n",
      " [ 4.   5. ]\n",
      " [ 6.   7. ]\n",
      " [ 8.   9. ]\n",
      " [ nan  9.5]\n",
      " [10.  11. ]\n",
      " [12.  13. ]\n",
      " [14.  15. ]\n",
      " [16.  17. ]\n",
      " [18.  19. ]\n",
      " [22.   nan]]\n"
     ]
    }
   ],
   "source": [
    "X_c = np.copy(X)\n",
    "X_c = np.append(X_c, [[22,np.nan]], axis =0)\n",
    "X_c = np.insert(X_c, 5, [np.nan, 9.5], axis =0)\n",
    "print(X_c)"
   ]
  },
  {
   "cell_type": "code",
   "execution_count": 67,
   "metadata": {},
   "outputs": [
    {
     "data": {
      "text/plain": [
       "array([[ 0.        ,  1.        ],\n",
       "       [ 2.        ,  3.        ],\n",
       "       [ 4.        ,  5.        ],\n",
       "       [ 6.        ,  7.        ],\n",
       "       [ 8.        ,  9.        ],\n",
       "       [10.18181818,  9.5       ],\n",
       "       [10.        , 11.        ],\n",
       "       [12.        , 13.        ],\n",
       "       [14.        , 15.        ],\n",
       "       [16.        , 17.        ],\n",
       "       [18.        , 19.        ],\n",
       "       [22.        ,  9.95454545]])"
      ]
     },
     "execution_count": 67,
     "metadata": {},
     "output_type": "execute_result"
    }
   ],
   "source": [
    "from sklearn.impute import SimpleImputer\n",
    "imp = SimpleImputer()\n",
    "imp.fit(X_c)\n",
    "imp.transform(X_c)"
   ]
  },
  {
   "cell_type": "code",
   "execution_count": 73,
   "metadata": {},
   "outputs": [
    {
     "name": "stdout",
     "output_type": "stream",
     "text": [
      "       0     1\n",
      "0    0.0   1.0\n",
      "1    2.0   3.0\n",
      "2    4.0   5.0\n",
      "3    6.0   7.0\n",
      "4    8.0   9.0\n",
      "6   10.0  11.0\n",
      "7   12.0  13.0\n",
      "8   14.0  15.0\n",
      "9   16.0  17.0\n",
      "10  18.0  19.0\n"
     ]
    }
   ],
   "source": [
    "import pandas as pd\n",
    "df = pd.DataFrame(data=X_c)\n",
    "# print(df.interpolate())\n",
    "print(df.dropna())"
   ]
  },
  {
   "cell_type": "code",
   "execution_count": null,
   "metadata": {},
   "outputs": [],
   "source": []
  }
 ],
 "metadata": {
  "kernelspec": {
   "display_name": "Python 3",
   "language": "python",
   "name": "python3"
  },
  "language_info": {
   "codemirror_mode": {
    "name": "ipython",
    "version": 3
   },
   "file_extension": ".py",
   "mimetype": "text/x-python",
   "name": "python",
   "nbconvert_exporter": "python",
   "pygments_lexer": "ipython3",
   "version": "3.8.5"
  }
 },
 "nbformat": 4,
 "nbformat_minor": 4
}
